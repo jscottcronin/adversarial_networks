{
 "cells": [
  {
   "cell_type": "code",
   "execution_count": 1,
   "metadata": {
    "collapsed": false
   },
   "outputs": [],
   "source": [
    "import pandas as pd\n",
    "import numpy as np\n",
    "from IPython.display import display\n",
    "pd.options.display.max_colwidth = 150"
   ]
  },
  {
   "cell_type": "markdown",
   "metadata": {},
   "source": [
    "# Load in Data"
   ]
  },
  {
   "cell_type": "code",
   "execution_count": 6,
   "metadata": {
    "collapsed": false
   },
   "outputs": [
    {
     "name": "stdout",
     "output_type": "stream",
     "text": [
      "<class 'pandas.core.frame.DataFrame'>\n",
      "RangeIndex: 71750 entries, 0 to 71749\n",
      "Data columns (total 3 columns):\n",
      "style_variant_id    71750 non-null object\n",
      "superclass          71750 non-null object\n",
      "division            71750 non-null object\n",
      "dtypes: object(3)\n",
      "memory usage: 1.6+ MB\n",
      "None\n"
     ]
    },
    {
     "data": {
      "text/html": [
       "<div>\n",
       "<table border=\"1\" class=\"dataframe\">\n",
       "  <thead>\n",
       "    <tr style=\"text-align: right;\">\n",
       "      <th></th>\n",
       "      <th>style_variant_id</th>\n",
       "      <th>superclass</th>\n",
       "      <th>division</th>\n",
       "    </tr>\n",
       "  </thead>\n",
       "  <tbody>\n",
       "    <tr>\n",
       "      <th>0</th>\n",
       "      <td>578d7028f5782bb8170000d6</td>\n",
       "      <td>Tops</td>\n",
       "      <td>Womens</td>\n",
       "    </tr>\n",
       "    <tr>\n",
       "      <th>1</th>\n",
       "      <td>578d7046f5782bb8170000ef</td>\n",
       "      <td>Tops</td>\n",
       "      <td>Womens</td>\n",
       "    </tr>\n",
       "    <tr>\n",
       "      <th>2</th>\n",
       "      <td>578d704af5782bb8170000f7</td>\n",
       "      <td>Tops</td>\n",
       "      <td>Womens</td>\n",
       "    </tr>\n",
       "    <tr>\n",
       "      <th>3</th>\n",
       "      <td>578d704ef5782bb8170000fd</td>\n",
       "      <td>Tops</td>\n",
       "      <td>Womens</td>\n",
       "    </tr>\n",
       "    <tr>\n",
       "      <th>4</th>\n",
       "      <td>578d7051f5782bb817000104</td>\n",
       "      <td>Tops</td>\n",
       "      <td>Womens</td>\n",
       "    </tr>\n",
       "  </tbody>\n",
       "</table>\n",
       "</div>"
      ],
      "text/plain": [
       "           style_variant_id superclass division\n",
       "0  578d7028f5782bb8170000d6       Tops   Womens\n",
       "1  578d7046f5782bb8170000ef       Tops   Womens\n",
       "2  578d704af5782bb8170000f7       Tops   Womens\n",
       "3  578d704ef5782bb8170000fd       Tops   Womens\n",
       "4  578d7051f5782bb817000104       Tops   Womens"
      ]
     },
     "metadata": {},
     "output_type": "display_data"
    }
   ],
   "source": [
    "style_variants = pd.read_csv('./style_variant_ids_Womens_Tops.csv')\n",
    "\n",
    "print style_variants.info()\n",
    "display(style_variants.head())"
   ]
  },
  {
   "cell_type": "code",
   "execution_count": 7,
   "metadata": {
    "collapsed": false
   },
   "outputs": [
    {
     "name": "stdout",
     "output_type": "stream",
     "text": [
      "<class 'pandas.core.frame.DataFrame'>\n",
      "RangeIndex: 1607984 entries, 0 to 1607983\n",
      "Data columns (total 4 columns):\n",
      "style_variant_id    1607984 non-null object\n",
      "base_url            1607984 non-null object\n",
      "photo_url           1607984 non-null object\n",
      "default             1607984 non-null bool\n",
      "dtypes: bool(1), object(3)\n",
      "memory usage: 38.3+ MB\n",
      "None\n"
     ]
    },
    {
     "data": {
      "text/html": [
       "<div>\n",
       "<table border=\"1\" class=\"dataframe\">\n",
       "  <thead>\n",
       "    <tr style=\"text-align: right;\">\n",
       "      <th></th>\n",
       "      <th>style_variant_id</th>\n",
       "      <th>base_url</th>\n",
       "      <th>photo_url</th>\n",
       "      <th>default</th>\n",
       "    </tr>\n",
       "  </thead>\n",
       "  <tbody>\n",
       "    <tr>\n",
       "      <th>0</th>\n",
       "      <td>57eb0b50f5782baf2b000019</td>\n",
       "      <td>https://res.cloudinary.com/trunk-club/image/upload</td>\n",
       "      <td>/autoimport/store/product/zoom/0/_12941160.jpg</td>\n",
       "      <td>False</td>\n",
       "    </tr>\n",
       "    <tr>\n",
       "      <th>1</th>\n",
       "      <td>57eb0b50f5782baf2b000019</td>\n",
       "      <td>https://res.cloudinary.com/trunk-club/image/upload</td>\n",
       "      <td>/autoimport/store/product/zoom/3/_12954423.jpg</td>\n",
       "      <td>True</td>\n",
       "    </tr>\n",
       "    <tr>\n",
       "      <th>2</th>\n",
       "      <td>56b06a31899319bdc8000029</td>\n",
       "      <td>https://res.cloudinary.com/trunk-club/image/upload</td>\n",
       "      <td>/autoimport/store/product/zoom/14/_12238854.jpg</td>\n",
       "      <td>False</td>\n",
       "    </tr>\n",
       "    <tr>\n",
       "      <th>3</th>\n",
       "      <td>56b06a31899319bdc8000029</td>\n",
       "      <td>https://res.cloudinary.com/trunk-club/image/upload</td>\n",
       "      <td>/autoimport/store/product/zoom/16/_12238856.jpg</td>\n",
       "      <td>True</td>\n",
       "    </tr>\n",
       "    <tr>\n",
       "      <th>4</th>\n",
       "      <td>56e7ccdc899319c1e8000032</td>\n",
       "      <td>https://res.cloudinary.com/trunk-club/image/upload</td>\n",
       "      <td>/autoimport/store/product/zoom/13/_12171093.jpg</td>\n",
       "      <td>False</td>\n",
       "    </tr>\n",
       "  </tbody>\n",
       "</table>\n",
       "</div>"
      ],
      "text/plain": [
       "           style_variant_id  \\\n",
       "0  57eb0b50f5782baf2b000019   \n",
       "1  57eb0b50f5782baf2b000019   \n",
       "2  56b06a31899319bdc8000029   \n",
       "3  56b06a31899319bdc8000029   \n",
       "4  56e7ccdc899319c1e8000032   \n",
       "\n",
       "                                             base_url  \\\n",
       "0  https://res.cloudinary.com/trunk-club/image/upload   \n",
       "1  https://res.cloudinary.com/trunk-club/image/upload   \n",
       "2  https://res.cloudinary.com/trunk-club/image/upload   \n",
       "3  https://res.cloudinary.com/trunk-club/image/upload   \n",
       "4  https://res.cloudinary.com/trunk-club/image/upload   \n",
       "\n",
       "                                         photo_url default  \n",
       "0   /autoimport/store/product/zoom/0/_12941160.jpg   False  \n",
       "1   /autoimport/store/product/zoom/3/_12954423.jpg    True  \n",
       "2  /autoimport/store/product/zoom/14/_12238854.jpg   False  \n",
       "3  /autoimport/store/product/zoom/16/_12238856.jpg    True  \n",
       "4  /autoimport/store/product/zoom/13/_12171093.jpg   False  "
      ]
     },
     "metadata": {},
     "output_type": "display_data"
    }
   ],
   "source": [
    "img_urls = pd.read_csv('./style_variant_images.csv')\n",
    "\n",
    "print img_urls.info()\n",
    "display(img_urls.head())"
   ]
  },
  {
   "cell_type": "markdown",
   "metadata": {},
   "source": [
    "# Format and Merge Data"
   ]
  },
  {
   "cell_type": "code",
   "execution_count": 8,
   "metadata": {
    "collapsed": false
   },
   "outputs": [
    {
     "name": "stdout",
     "output_type": "stream",
     "text": [
      "<class 'pandas.core.frame.DataFrame'>\n",
      "Int64Index: 212952 entries, 0 to 219070\n",
      "Data columns (total 7 columns):\n",
      "style_variant_id     212952 non-null object\n",
      "base_url             212952 non-null object\n",
      "photo_url            212952 non-null object\n",
      "default              212952 non-null bool\n",
      "ext                  212952 non-null object\n",
      "base_start_letter    212952 non-null object\n",
      "url                  212952 non-null object\n",
      "dtypes: bool(1), object(6)\n",
      "memory usage: 11.6+ MB\n",
      "None\n"
     ]
    },
    {
     "data": {
      "text/html": [
       "<div>\n",
       "<table border=\"1\" class=\"dataframe\">\n",
       "  <thead>\n",
       "    <tr style=\"text-align: right;\">\n",
       "      <th></th>\n",
       "      <th>style_variant_id</th>\n",
       "      <th>base_url</th>\n",
       "      <th>photo_url</th>\n",
       "      <th>default</th>\n",
       "      <th>ext</th>\n",
       "      <th>base_start_letter</th>\n",
       "      <th>url</th>\n",
       "    </tr>\n",
       "  </thead>\n",
       "  <tbody>\n",
       "    <tr>\n",
       "      <th>0</th>\n",
       "      <td>578d7028f5782bb8170000d6</td>\n",
       "      <td>https://res.cloudinary.com/trunk-club/image/upload</td>\n",
       "      <td>/autoimport/store/product/zoom/7/_12684147.jpg</td>\n",
       "      <td>False</td>\n",
       "      <td>.jpg</td>\n",
       "      <td>h</td>\n",
       "      <td>https://res.cloudinary.com/trunk-club/image/upload/h_256,q_80/autoimport/store/product/zoom/7/_12684147.jpg</td>\n",
       "    </tr>\n",
       "    <tr>\n",
       "      <th>1</th>\n",
       "      <td>578d7028f5782bb8170000d6</td>\n",
       "      <td>https://res.cloudinary.com/trunk-club/image/upload</td>\n",
       "      <td>/autoimport/store/product/zoom/14/_12684134.jpg</td>\n",
       "      <td>False</td>\n",
       "      <td>.jpg</td>\n",
       "      <td>h</td>\n",
       "      <td>https://res.cloudinary.com/trunk-club/image/upload/h_256,q_80/autoimport/store/product/zoom/14/_12684134.jpg</td>\n",
       "    </tr>\n",
       "    <tr>\n",
       "      <th>2</th>\n",
       "      <td>578d7028f5782bb8170000d6</td>\n",
       "      <td>https://res.cloudinary.com/trunk-club/image/upload</td>\n",
       "      <td>/autoimport/store/product/zoom/5/_12684185.jpg</td>\n",
       "      <td>False</td>\n",
       "      <td>.jpg</td>\n",
       "      <td>h</td>\n",
       "      <td>https://res.cloudinary.com/trunk-club/image/upload/h_256,q_80/autoimport/store/product/zoom/5/_12684185.jpg</td>\n",
       "    </tr>\n",
       "    <tr>\n",
       "      <th>3</th>\n",
       "      <td>578d7028f5782bb8170000d6</td>\n",
       "      <td>https://res.cloudinary.com/trunk-club/image/upload</td>\n",
       "      <td>/autoimport/store/product/zoom/17/_12672677.jpg</td>\n",
       "      <td>False</td>\n",
       "      <td>.jpg</td>\n",
       "      <td>h</td>\n",
       "      <td>https://res.cloudinary.com/trunk-club/image/upload/h_256,q_80/autoimport/store/product/zoom/17/_12672677.jpg</td>\n",
       "    </tr>\n",
       "    <tr>\n",
       "      <th>4</th>\n",
       "      <td>578d7028f5782bb8170000d6</td>\n",
       "      <td>https://res.cloudinary.com/trunk-club/image/upload</td>\n",
       "      <td>/autoimport/store/product/zoom/19/_12684159.jpg</td>\n",
       "      <td>True</td>\n",
       "      <td>.jpg</td>\n",
       "      <td>h</td>\n",
       "      <td>https://res.cloudinary.com/trunk-club/image/upload/h_256,q_80/autoimport/store/product/zoom/19/_12684159.jpg</td>\n",
       "    </tr>\n",
       "  </tbody>\n",
       "</table>\n",
       "</div>"
      ],
      "text/plain": [
       "           style_variant_id  \\\n",
       "0  578d7028f5782bb8170000d6   \n",
       "1  578d7028f5782bb8170000d6   \n",
       "2  578d7028f5782bb8170000d6   \n",
       "3  578d7028f5782bb8170000d6   \n",
       "4  578d7028f5782bb8170000d6   \n",
       "\n",
       "                                             base_url  \\\n",
       "0  https://res.cloudinary.com/trunk-club/image/upload   \n",
       "1  https://res.cloudinary.com/trunk-club/image/upload   \n",
       "2  https://res.cloudinary.com/trunk-club/image/upload   \n",
       "3  https://res.cloudinary.com/trunk-club/image/upload   \n",
       "4  https://res.cloudinary.com/trunk-club/image/upload   \n",
       "\n",
       "                                         photo_url default   ext  \\\n",
       "0   /autoimport/store/product/zoom/7/_12684147.jpg   False  .jpg   \n",
       "1  /autoimport/store/product/zoom/14/_12684134.jpg   False  .jpg   \n",
       "2   /autoimport/store/product/zoom/5/_12684185.jpg   False  .jpg   \n",
       "3  /autoimport/store/product/zoom/17/_12672677.jpg   False  .jpg   \n",
       "4  /autoimport/store/product/zoom/19/_12684159.jpg    True  .jpg   \n",
       "\n",
       "  base_start_letter  \\\n",
       "0                 h   \n",
       "1                 h   \n",
       "2                 h   \n",
       "3                 h   \n",
       "4                 h   \n",
       "\n",
       "                                                                                                            url  \n",
       "0   https://res.cloudinary.com/trunk-club/image/upload/h_256,q_80/autoimport/store/product/zoom/7/_12684147.jpg  \n",
       "1  https://res.cloudinary.com/trunk-club/image/upload/h_256,q_80/autoimport/store/product/zoom/14/_12684134.jpg  \n",
       "2   https://res.cloudinary.com/trunk-club/image/upload/h_256,q_80/autoimport/store/product/zoom/5/_12684185.jpg  \n",
       "3  https://res.cloudinary.com/trunk-club/image/upload/h_256,q_80/autoimport/store/product/zoom/17/_12672677.jpg  \n",
       "4  https://res.cloudinary.com/trunk-club/image/upload/h_256,q_80/autoimport/store/product/zoom/19/_12684159.jpg  "
      ]
     },
     "metadata": {},
     "output_type": "display_data"
    }
   ],
   "source": [
    "merged = (\n",
    "    style_variants\n",
    "    .loc[:, ['style_variant_id']]\n",
    "    .merge(img_urls, how='inner', on='style_variant_id')\n",
    "    .drop_duplicates()\n",
    "    .query(\"photo_url != '/missing_photo.jpg'\")\n",
    "    .assign(ext=lambda df: df.photo_url.apply(lambda x: x[-4:]))\n",
    "    .query(\"ext != 'jpg)'\")\n",
    "    .assign(base_start_letter=lambda df: df.base_url.apply(lambda x: x[:1]))\n",
    "    .query(\"base_start_letter != '/'\")\n",
    "    .assign(url=lambda df: df.base_url + '/h_256,q_80' + df.photo_url)\n",
    "    )\n",
    "\n",
    "print merged.info()\n",
    "display(merged.head())"
   ]
  },
  {
   "cell_type": "code",
   "execution_count": 9,
   "metadata": {
    "collapsed": false
   },
   "outputs": [],
   "source": [
    "urls = (\n",
    "    merged\n",
    "    .loc[:, ['style_variant_id', 'default', 'url']]\n",
    "    .sort_values(['style_variant_id', 'default'], ascending=[1,0])\n",
    "    .groupby('url')\n",
    "    .head(1)\n",
    "    .reset_index(drop=True)\n",
    ")\n",
    "\n",
    "urls.to_csv('./urls_for_scraping.csv', index=False)"
   ]
  },
  {
   "cell_type": "markdown",
   "metadata": {},
   "source": [
    "Create dataframe with index=url and name as col"
   ]
  },
  {
   "cell_type": "code",
   "execution_count": 2,
   "metadata": {
    "collapsed": false
   },
   "outputs": [],
   "source": [
    "urls = pd.read_csv('./urls_for_scraping.csv')"
   ]
  },
  {
   "cell_type": "code",
   "execution_count": 3,
   "metadata": {
    "collapsed": false
   },
   "outputs": [],
   "source": [
    "inds = pd.Series(np.arange(len(urls)), name='name').apply(lambda x: str(x).rjust(6, '0'))\n",
    "\n",
    "indexed_urls = (\n",
    "    pd.concat([urls, inds], axis=1)\n",
    "    .assign(name=lambda df: df.name + '_' +\n",
    "            df.style_variant_id + '.jpg')\n",
    "    .set_index('url')\n",
    ")"
   ]
  },
  {
   "cell_type": "code",
   "execution_count": 4,
   "metadata": {
    "collapsed": false
   },
   "outputs": [
    {
     "data": {
      "text/html": [
       "<div>\n",
       "<table border=\"1\" class=\"dataframe\">\n",
       "  <thead>\n",
       "    <tr style=\"text-align: right;\">\n",
       "      <th></th>\n",
       "      <th>style_variant_id</th>\n",
       "      <th>default</th>\n",
       "      <th>name</th>\n",
       "    </tr>\n",
       "    <tr>\n",
       "      <th>url</th>\n",
       "      <th></th>\n",
       "      <th></th>\n",
       "      <th></th>\n",
       "    </tr>\n",
       "  </thead>\n",
       "  <tbody>\n",
       "    <tr>\n",
       "      <th>https://res.cloudinary.com/trunk-club/image/upload/h_256,q_80/wbxnw1qutnpszbvwzxde.jpg</th>\n",
       "      <td>54492cb4cef4de8c1b00004d</td>\n",
       "      <td>True</td>\n",
       "      <td>000000_54492cb4cef4de8c1b00004d.jpg</td>\n",
       "    </tr>\n",
       "    <tr>\n",
       "      <th>https://res.cloudinary.com/trunk-club/image/upload/h_256,q_80/zywrbly9os6wttnp1paq.jpg</th>\n",
       "      <td>546e6b60cef4de41a1000083</td>\n",
       "      <td>True</td>\n",
       "      <td>000001_546e6b60cef4de41a1000083.jpg</td>\n",
       "    </tr>\n",
       "  </tbody>\n",
       "</table>\n",
       "</div>"
      ],
      "text/plain": [
       "                                                                                                style_variant_id  \\\n",
       "url                                                                                                                \n",
       "https://res.cloudinary.com/trunk-club/image/upload/h_256,q_80/wbxnw1qutnpszbvwzxde.jpg  54492cb4cef4de8c1b00004d   \n",
       "https://res.cloudinary.com/trunk-club/image/upload/h_256,q_80/zywrbly9os6wttnp1paq.jpg  546e6b60cef4de41a1000083   \n",
       "\n",
       "                                                                                       default  \\\n",
       "url                                                                                              \n",
       "https://res.cloudinary.com/trunk-club/image/upload/h_256,q_80/wbxnw1qutnpszbvwzxde.jpg    True   \n",
       "https://res.cloudinary.com/trunk-club/image/upload/h_256,q_80/zywrbly9os6wttnp1paq.jpg    True   \n",
       "\n",
       "                                                                                                                       name  \n",
       "url                                                                                                                          \n",
       "https://res.cloudinary.com/trunk-club/image/upload/h_256,q_80/wbxnw1qutnpszbvwzxde.jpg  000000_54492cb4cef4de8c1b00004d.jpg  \n",
       "https://res.cloudinary.com/trunk-club/image/upload/h_256,q_80/zywrbly9os6wttnp1paq.jpg  000001_546e6b60cef4de41a1000083.jpg  "
      ]
     },
     "execution_count": 4,
     "metadata": {},
     "output_type": "execute_result"
    }
   ],
   "source": [
    "indexed_urls.head(2)"
   ]
  },
  {
   "cell_type": "markdown",
   "metadata": {},
   "source": [
    "# Download Images"
   ]
  },
  {
   "cell_type": "code",
   "execution_count": 14,
   "metadata": {
    "collapsed": false
   },
   "outputs": [],
   "source": [
    "from threading import Thread\n",
    "from Queue import Queue\n",
    "import requests\n",
    "import shutil\n",
    "import os"
   ]
  },
  {
   "cell_type": "code",
   "execution_count": 28,
   "metadata": {
    "collapsed": false
   },
   "outputs": [
    {
     "name": "stdout",
     "output_type": "stream",
     "text": [
      "CPU times: user 1min 47s, sys: 1min 56s, total: 3min 44s\n",
      "Wall time: 2min\n"
     ]
    }
   ],
   "source": [
    "%%time\n",
    "\n",
    "def worker():\n",
    "    while True:\n",
    "        url = q.get()\n",
    "        fn = indexed_urls.loc[url, 'name']\n",
    "        if not os.path.isfile(path+fn):\n",
    "            r = requests.get(url, stream=True)\n",
    "            if r.status_code == 200:\n",
    "                with open(path+fn, 'wb') as f:\n",
    "                    shutil.copyfileobj(r.raw, f)\n",
    "        q.task_done()\n",
    "\n",
    "\n",
    "path = '/Users/scottcronin/TrunkClub/git_repos/adversarial_networks/imgs/'\n",
    "q = Queue()\n",
    "\n",
    "for url in indexed_urls.index.values:\n",
    "    q.put(url)\n",
    "\n",
    "for _ in range(25):\n",
    "    t = Thread(target=worker)\n",
    "    t.daemon = True\n",
    "    t.start()\n",
    "\n",
    "q.join()"
   ]
  },
  {
   "cell_type": "code",
   "execution_count": 29,
   "metadata": {
    "collapsed": false
   },
   "outputs": [
    {
     "data": {
      "text/plain": [
       "(163421, 3)"
      ]
     },
     "execution_count": 29,
     "metadata": {},
     "output_type": "execute_result"
    }
   ],
   "source": [
    "indexed_urls.shape"
   ]
  },
  {
   "cell_type": "code",
   "execution_count": 32,
   "metadata": {
    "collapsed": false
   },
   "outputs": [
    {
     "data": {
      "text/plain": [
       "(58125, 3)"
      ]
     },
     "execution_count": 32,
     "metadata": {},
     "output_type": "execute_result"
    }
   ],
   "source": [
    "indexed_urls[indexed_urls.default].shape"
   ]
  },
  {
   "cell_type": "markdown",
   "metadata": {},
   "source": [
    "# Image Processing"
   ]
  },
  {
   "cell_type": "code",
   "execution_count": 5,
   "metadata": {
    "collapsed": false
   },
   "outputs": [],
   "source": [
    "# from skimage.transform import resize\n",
    "# from skimage import transform, util\n",
    "# from skimage.io import imread, imshow, imsave\n",
    "# from skimage.util import pad\n",
    "\n",
    "from skimage import data, draw\n",
    "from skimage import transform, util, io\n",
    "from skimage import filters, color\n",
    "import matplotlib.pyplot as plt\n",
    "\n",
    "\n",
    "# import matplotlib.pyplot as plt\n",
    "%matplotlib inline"
   ]
  },
  {
   "cell_type": "code",
   "execution_count": 6,
   "metadata": {
    "collapsed": false
   },
   "outputs": [],
   "source": [
    "fn = '/Users/scottcronin/TrunkClub/git_repos/adversarial_networks/imgs/' + indexed_urls.name[0]\n",
    "im = io.imread(fn)"
   ]
  },
  {
   "cell_type": "code",
   "execution_count": 7,
   "metadata": {
    "collapsed": false
   },
   "outputs": [
    {
     "data": {
      "image/png": "[encoded data removed]",
      "text/plain": [
       "<matplotlib.figure.Figure at 0x11edb2150>"
      ]
     },
     "metadata": {},
     "output_type": "display_data"
    },
    {
     "data": {
      "image/png": "[encoded data removed]",
      "text/plain": [
       "<matplotlib.figure.Figure at 0x11ef59c10>"
      ]
     },
     "metadata": {},
     "output_type": "display_data"
    }
   ],
   "source": [
    "io.imshow(im)\n",
    "plt.show()\n",
    "\n",
    "io.imshow(\n",
    "    transform.resize(util.pad(im, ((0, 0), (0,89), (0,0)),\n",
    "           mode='constant',\n",
    "           constant_values=255),\n",
    "       (64,64)\n",
    "      ))\n",
    "plt.show()"
   ]
  },
  {
   "cell_type": "code",
   "execution_count": 15,
   "metadata": {
    "collapsed": false
   },
   "outputs": [],
   "source": [
    "img = util.img_as_float(im)\n",
    "eimg = filters.sobel(color.rgb2gray(img))"
   ]
  },
  {
   "cell_type": "code",
   "execution_count": null,
   "metadata": {
    "collapsed": false
   },
   "outputs": [],
   "source": [
    "io.imshow(transform.seam_carve(img, eimg, 'vertical', 20))\n",
    "plt.show()"
   ]
  },
  {
   "cell_type": "code",
   "execution_count": 23,
   "metadata": {
    "collapsed": false
   },
   "outputs": [],
   "source": [
    "import skimageage"
   ]
  },
  {
   "cell_type": "code",
   "execution_count": 24,
   "metadata": {
    "collapsed": false
   },
   "outputs": [
    {
     "data": {
      "text/plain": [
       "'0.11.3'"
      ]
     },
     "execution_count": 24,
     "metadata": {},
     "output_type": "execute_result"
    }
   ],
   "source": [
    "skimage.__version__"
   ]
  },
  {
   "cell_type": "code",
   "execution_count": 80,
   "metadata": {
    "collapsed": false
   },
   "outputs": [
    {
     "name": "stdout",
     "output_type": "stream",
     "text": [
      "CPU times: user 5min 54s, sys: 23.3 s, total: 6min 18s\n",
      "Wall time: 10min 47s\n"
     ]
    }
   ],
   "source": [
    "%%time\n",
    "for img_name in indexed_urls[indexed_urls.default].name.values:\n",
    "    if not os.path.isfile('./imgs_processed_pngs/' + img_name):\n",
    "        try:\n",
    "            im = imread('./imgs/' + img_name)\n",
    "            im2 = resize(pad(im, ((0, 0), (0,89), (0,0)),\n",
    "                             mode='constant',\n",
    "                             constant_values=255),\n",
    "                         (64,64))\n",
    "            imsave('./imgs_processed_pngs/' + img_name[:-3] + 'png', im2)\n",
    "        except:\n",
    "            pass\n",
    "    "
   ]
  }
 ],
 "metadata": {
  "kernelspec": {
   "display_name": "Python 2",
   "language": "python",
   "name": "python2"
  },
  "language_info": {
   "codemirror_mode": {
    "name": "ipython",
    "version": 2
   },
   "file_extension": ".py",
   "mimetype": "text/x-python",
   "name": "python",
   "nbconvert_exporter": "python",
   "pygments_lexer": "ipython2",
   "version": "2.7.9"
  },
  "toc": {
   "nav_menu": {
    "height": "67px",
    "width": "252px"
   },
   "navigate_menu": true,
   "number_sections": true,
   "sideBar": true,
   "threshold": 4,
   "toc_cell": false,
   "toc_section_display": "block",
   "toc_window_display": false
  }
 },
 "nbformat": 4,
 "nbformat_minor": 0
}
